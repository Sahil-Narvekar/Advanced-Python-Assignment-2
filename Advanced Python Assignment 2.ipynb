{
 "cells": [
  {
   "cell_type": "code",
   "execution_count": null,
   "metadata": {},
   "outputs": [],
   "source": [
    "Q1. What is the relationship between classes and modules?"
   ]
  },
  {
   "cell_type": "code",
   "execution_count": null,
   "metadata": {},
   "outputs": [],
   "source": [
    "Classes provide a means of bundling data and functionality together. Creating a new class creates a new \n",
    "type of object, allowing new instances of that type to be made. Each class instance can have attributes \n",
    "attached to it for maintaining its state. Class instances can also have methods (defined by its class) for\n",
    "modifying its state."
   ]
  },
  {
   "cell_type": "code",
   "execution_count": null,
   "metadata": {},
   "outputs": [],
   "source": [
    "As is true for modules, classes partake of the dynamic nature of Python: they are created at runtime, \n",
    "and can be modified further after creation."
   ]
  },
  {
   "cell_type": "code",
   "execution_count": null,
   "metadata": {},
   "outputs": [],
   "source": [
    "Q2. How do you make instances and classes?"
   ]
  },
  {
   "cell_type": "code",
   "execution_count": null,
   "metadata": {},
   "outputs": [],
   "source": [
    "class MyClass:\n",
    "    \"\"\"A simple example class\"\"\"\n",
    "    i = 12345\n",
    "\n",
    "    def f(self):\n",
    "        return 'hello world'\n",
    "x=MyClass()"
   ]
  },
  {
   "cell_type": "code",
   "execution_count": null,
   "metadata": {},
   "outputs": [],
   "source": [
    "We specify keyword class and then give it anme and later body is written."
   ]
  },
  {
   "cell_type": "code",
   "execution_count": null,
   "metadata": {},
   "outputs": [],
   "source": [
    "x=MyClass() this command is going to create instance object and assign this to local variable x."
   ]
  },
  {
   "cell_type": "code",
   "execution_count": null,
   "metadata": {},
   "outputs": [],
   "source": [
    "Q3. Where and how should be class attributes created?"
   ]
  },
  {
   "cell_type": "code",
   "execution_count": 8,
   "metadata": {},
   "outputs": [
    {
     "data": {
      "text/plain": [
       "1"
      ]
     },
     "execution_count": 8,
     "metadata": {},
     "output_type": "execute_result"
    }
   ],
   "source": [
    "class myclass:\n",
    "    i_myclass=1\n",
    "    def __init__(self):\n",
    "        pass\n",
    "        \n",
    "boo=myclass()\n",
    "boo.i_myclass"
   ]
  },
  {
   "cell_type": "code",
   "execution_count": null,
   "metadata": {},
   "outputs": [],
   "source": [
    "Here, i_myclass is a class attribute, all instances of the class have access to i_myclass\n",
    "and that it can also be accessed as a property of the class itself."
   ]
  },
  {
   "cell_type": "code",
   "execution_count": 12,
   "metadata": {},
   "outputs": [
    {
     "data": {
      "text/plain": [
       "2"
      ]
     },
     "execution_count": 12,
     "metadata": {},
     "output_type": "execute_result"
    }
   ],
   "source": [
    "\n",
    "myclass.i_myclass=2\n",
    "boo.i_myclass\n"
   ]
  },
  {
   "cell_type": "code",
   "execution_count": null,
   "metadata": {},
   "outputs": [],
   "source": [
    "if a class attribute is set by accessing the class, it will override the value for all instances."
   ]
  },
  {
   "cell_type": "code",
   "execution_count": null,
   "metadata": {},
   "outputs": [],
   "source": [
    "If a Paython class variable is set by accessing an instance, it will override the value only for that \n",
    "instance.This essentially overrides the class variable and turns it into an instance variable available,\n",
    "intuitively,only for that instance. "
   ]
  },
  {
   "cell_type": "code",
   "execution_count": 14,
   "metadata": {},
   "outputs": [
    {
     "data": {
      "text/plain": [
       "(4, 2)"
      ]
     },
     "execution_count": 14,
     "metadata": {},
     "output_type": "execute_result"
    }
   ],
   "source": [
    "boo.i_myclass=4\n",
    "boo.i_myclass,myclass.i_myclass"
   ]
  },
  {
   "cell_type": "code",
   "execution_count": null,
   "metadata": {},
   "outputs": [],
   "source": [
    "Class attributes are used for storing constants and defining default values."
   ]
  },
  {
   "cell_type": "code",
   "execution_count": null,
   "metadata": {},
   "outputs": [],
   "source": [
    "Q4. Where and how are instance attributes created?"
   ]
  },
  {
   "cell_type": "code",
   "execution_count": 11,
   "metadata": {},
   "outputs": [
    {
     "data": {
      "text/plain": [
       "3"
      ]
     },
     "execution_count": 11,
     "metadata": {},
     "output_type": "execute_result"
    }
   ],
   "source": [
    "class myclass:\n",
    "    \n",
    "    def __init__(self,int2):\n",
    "        self.int2=int2\n",
    "        \n",
    "boo=myclass(3)\n",
    "boo.int2"
   ]
  },
  {
   "cell_type": "code",
   "execution_count": null,
   "metadata": {},
   "outputs": [],
   "source": [
    "here int2 is an instance attribute:\n",
    "when we try to access an attribute from an instance of a class, it first looks at its instance \n",
    "namespace. If it finds the attribute, it returns the associated value. If not, it then looks in the \n",
    "class namespace and returns the attribute (if it’s present, throwing an error otherwise). For example:"
   ]
  },
  {
   "cell_type": "code",
   "execution_count": 18,
   "metadata": {},
   "outputs": [
    {
     "name": "stdout",
     "output_type": "stream",
     "text": [
      "2\n",
      "5\n"
     ]
    }
   ],
   "source": [
    "class MyClass:\n",
    "    class_var=5\n",
    "    \n",
    "    def __init__(self,int2):\n",
    "        self.int2=int2\n",
    "foo = MyClass(2)\n",
    "print(foo.int2)\n",
    "print(foo.class_var)\n",
    "## 1"
   ]
  },
  {
   "cell_type": "code",
   "execution_count": null,
   "metadata": {},
   "outputs": [],
   "source": [
    "Finds int2 in foo's instance namespace if found prints it\n",
    " Doesn't find class_var in instance namespace…\n",
    " So look's in class namespace (MyClass.__dict__)"
   ]
  },
  {
   "cell_type": "code",
   "execution_count": null,
   "metadata": {},
   "outputs": [],
   "source": [
    "Q5. What does the term self  in a Python class mean?"
   ]
  },
  {
   "cell_type": "code",
   "execution_count": 22,
   "metadata": {},
   "outputs": [
    {
     "data": {
      "text/plain": [
       "'Fido'"
      ]
     },
     "execution_count": 22,
     "metadata": {},
     "output_type": "execute_result"
    }
   ],
   "source": [
    "class Dog:\n",
    "\n",
    "    kind = 'canine'         # class variable shared by all instances\n",
    "\n",
    "    def __init__(self, name):\n",
    "        self.name = name    # instance variable unique to each instance\n",
    "\n",
    "d = Dog('Fido')\n",
    "d.name"
   ]
  },
  {
   "cell_type": "code",
   "execution_count": null,
   "metadata": {},
   "outputs": [],
   "source": [
    "Here in python the argument self in python is the instance object that is created is passed as the first\n",
    "argument so here d.name means Dog.name(d).Hence when instance object is created it creats new argument \n",
    "for function object."
   ]
  },
  {
   "cell_type": "code",
   "execution_count": null,
   "metadata": {},
   "outputs": [],
   "source": [
    "Q6. How does a Python class handle operator overloading?"
   ]
  },
  {
   "cell_type": "code",
   "execution_count": null,
   "metadata": {},
   "outputs": [],
   "source": [
    "Python operators work for built-in classes. But the same operator behaves differently with different types\n",
    "For example, the + operator will perform arithmetic addition on two numbers, merge two lists, or \n",
    "concatenate two strings.This feature in Python that allows the same operator to have different meaning \n",
    "according to the context is called operator overloading."
   ]
  },
  {
   "cell_type": "code",
   "execution_count": 27,
   "metadata": {},
   "outputs": [
    {
     "name": "stdout",
     "output_type": "stream",
     "text": [
      "points are 5,6\n"
     ]
    },
    {
     "data": {
      "text/plain": [
       "'points are 5,6'"
      ]
     },
     "execution_count": 27,
     "metadata": {},
     "output_type": "execute_result"
    }
   ],
   "source": [
    "class a:\n",
    "    def __init__(self,x=0,y=0):\n",
    "        self.x=x\n",
    "        self.y=y\n",
    "    def __str__(self):\n",
    "        return 'points are {},{}'.format(self.x,self.y)\n",
    "k=a(5,6)\n",
    "print(k)\n",
    "str(k)"
   ]
  },
  {
   "cell_type": "code",
   "execution_count": null,
   "metadata": {},
   "outputs": [],
   "source": [
    "This works like str() builtin function "
   ]
  },
  {
   "cell_type": "code",
   "execution_count": null,
   "metadata": {},
   "outputs": [],
   "source": [
    "To overload the + operator, we will need to implement __add__() function in the class. "
   ]
  },
  {
   "cell_type": "code",
   "execution_count": 30,
   "metadata": {},
   "outputs": [
    {
     "name": "stdout",
     "output_type": "stream",
     "text": [
      "(4, 5)\n"
     ]
    }
   ],
   "source": [
    "class a:\n",
    "    def __init__(self,x=0,y=0):\n",
    "        self.x=x\n",
    "        self.y=y\n",
    "    def __str__(self):\n",
    "        return 'points are {},{}'.format(self.x,self.y)\n",
    "    def __add__(self,others):\n",
    "        x=self.x+others.x\n",
    "        y=self.x+others.y\n",
    "        return (x,y)\n",
    "p1=a(1,2)\n",
    "p2=a(3,4)\n",
    "print(p1+p2)\n"
   ]
  },
  {
   "cell_type": "code",
   "execution_count": null,
   "metadata": {},
   "outputs": [],
   "source": [
    "What actually happens is that, when you use p1 + p2, Python calls p1.__add__(p2) which in turn is\n",
    "Point.__add__(p1,p2). After this, the addition operation is carried out the way we specified."
   ]
  },
  {
   "cell_type": "code",
   "execution_count": null,
   "metadata": {},
   "outputs": [],
   "source": [
    " The '+' operator depending upon type of item that is for type str() it concatenates two  strings \n",
    "whereas for type int() it performs arithematic addition.\n",
    "Hence + becomes overloaded operator"
   ]
  },
  {
   "cell_type": "code",
   "execution_count": 31,
   "metadata": {},
   "outputs": [
    {
     "data": {
      "text/plain": [
       "('ab', 11)"
      ]
     },
     "execution_count": 31,
     "metadata": {},
     "output_type": "execute_result"
    }
   ],
   "source": [
    "c='a'+'b'\n",
    "d=5+6\n",
    "c,d"
   ]
  },
  {
   "cell_type": "code",
   "execution_count": null,
   "metadata": {},
   "outputs": [],
   "source": [
    "Q7. When do you consider allowing operator overloading of your classes?"
   ]
  },
  {
   "cell_type": "code",
   "execution_count": null,
   "metadata": {},
   "outputs": [],
   "source": [
    "When there is need to to seamlessly integrate a new class type into our programming environment\n",
    "this type extensibility is  important. "
   ]
  },
  {
   "cell_type": "code",
   "execution_count": null,
   "metadata": {},
   "outputs": [],
   "source": [
    "Q8. What is the most popular form of operator overloading?"
   ]
  },
  {
   "cell_type": "code",
   "execution_count": null,
   "metadata": {},
   "outputs": [],
   "source": [
    "class a:\n",
    "    def __init__(self,x=0,y=0):\n",
    "        self.x=x\n",
    "        self.y=y\n",
    "    def __str__(self):\n",
    "        return 'points are {},{}'.format(self.x,self.y)\n",
    "k=a(5,6)\n",
    "class a:\n",
    "    def __init__(self,x=0,y=0):\n",
    "        self.x=x\n",
    "        self.y=y\n",
    "    def __str__(self):\n",
    "        return 'points are {},{}'.format(self.x,self.y)\n",
    "k=a(5,6)\n",
    "print(k)\n",
    "str(k)\n",
    "points are 5,6\n",
    "'points are 5,6'\n",
    "This works like str() builtin function \n",
    "To overload the + operator, we will need to implement __add__() function in the class. \n",
    "class a:\n",
    "    def __init__(self,x=0,y=0):\n",
    "        self.x=x\n",
    "        self.y=y\n",
    "    def __str__(self):\n",
    "        return 'points are {},{}'.format(self.x,self.y)\n",
    "    def __add__(self,others):\n",
    "        x=self.x+others.x\n",
    "        y=self.x+others.y\n",
    "        return (x,y)\n",
    "p1=a(1,2)\n",
    "p2=a(3,4)\n",
    "print(p1+p2)\n",
    "​\n",
    "(4, 5)\n",
    "What actually happens is that, when you use p1 + p2, Python calls p1.__add__(p2) which in turn is\n",
    "Point.__add__(p1,p2). After this, the addition operation is carried out the way we specified."
   ]
  },
  {
   "cell_type": "code",
   "execution_count": null,
   "metadata": {},
   "outputs": [],
   "source": [
    "Q9. What are the two most important concepts to grasp in order to comprehend Python OOP code?"
   ]
  },
  {
   "cell_type": "code",
   "execution_count": null,
   "metadata": {},
   "outputs": [],
   "source": [
    "Inheritance in Python Class\n",
    "Inheritance is the procedure in which one class inherits the attributes and methods of another class.  \n",
    "The class whose properties and methods are inherited is known as Parent class. And the class that inherits\n",
    "the properties from the parent class is the Child class.\n",
    "\n",
    "The interesting thing is, along with the inherited properties and methods, a child class can have its own\n",
    "properties and methods."
   ]
  },
  {
   "cell_type": "code",
   "execution_count": 32,
   "metadata": {},
   "outputs": [],
   "source": [
    "class Car:          #parent class\n",
    "\n",
    "    def __init__(self, name, mileage):\n",
    "        self.name = name \n",
    "        self.mileage = mileage \n",
    "\n",
    "    def description(self):                \n",
    "        return f\"The {self.name} car gives the mileage of {self.mileage}km/l\"\n",
    "\n",
    "class BMW(Car):     #child class\n",
    "    pass\n",
    "\n",
    "class Audi(Car):     #child class\n",
    "    def audi_desc(self):\n",
    "        return \"This is the description method of class Audi.\""
   ]
  },
  {
   "cell_type": "code",
   "execution_count": 33,
   "metadata": {},
   "outputs": [
    {
     "name": "stdout",
     "output_type": "stream",
     "text": [
      "The BMW 7-series car gives the mileage of 39.53km/l\n",
      "The Audi A8 L car gives the mileage of 14km/l\n",
      "This is the description method of class Audi.\n"
     ]
    }
   ],
   "source": [
    "obj1 = BMW(\"BMW 7-series\",39.53)\n",
    "print(obj1.description())\n",
    "\n",
    "obj2 = Audi(\"Audi A8 L\",14)\n",
    "print(obj2.description())\n",
    "print(obj2.audi_desc())"
   ]
  },
  {
   "cell_type": "code",
   "execution_count": null,
   "metadata": {},
   "outputs": [],
   "source": [
    "We have created two child classes namely “BMW” and “Audi” who have inherited the methods and properties \n",
    "of the parent class “Car”.  We have provided no additional features and methods in the class BMW. \n",
    "Whereas one additional method inside the class Audi.\n",
    "\n",
    "Notice how the instance method description() of the parent class is accessible by the objects of child \n",
    "classes with the help of obj1.description() and obj2.description(). And also the separate method of\n",
    "class Audi is also accessible using obj2.audi_desc()."
   ]
  },
  {
   "cell_type": "code",
   "execution_count": null,
   "metadata": {},
   "outputs": [],
   "source": [
    "In OOP it refers to the functions having the same names but carrying different functionalities."
   ]
  },
  {
   "cell_type": "code",
   "execution_count": 34,
   "metadata": {},
   "outputs": [
    {
     "name": "stdout",
     "output_type": "stream",
     "text": [
      "This the description function of class AUDI.\n",
      "This the description function of class BMW.\n"
     ]
    }
   ],
   "source": [
    "class Audi:\n",
    "  def description(self):\n",
    "    print(\"This the description function of class AUDI.\")\n",
    "\n",
    "class BMW:\n",
    "  def description(self):\n",
    "    print(\"This the description function of class BMW.\")\n",
    "audi = Audi()\n",
    "bmw = BMW()\n",
    "for car in (audi,bmw):\n",
    " car.description()\n"
   ]
  },
  {
   "cell_type": "code",
   "execution_count": null,
   "metadata": {},
   "outputs": [],
   "source": [
    "When the function is called using the object audi then the function of class Audi is called and\n",
    "when it is called using the object bmw then the function of class BMW is called. "
   ]
  }
 ],
 "metadata": {
  "kernelspec": {
   "display_name": "Python 3",
   "language": "python",
   "name": "python3"
  },
  "language_info": {
   "codemirror_mode": {
    "name": "ipython",
    "version": 3
   },
   "file_extension": ".py",
   "mimetype": "text/x-python",
   "name": "python",
   "nbconvert_exporter": "python",
   "pygments_lexer": "ipython3",
   "version": "3.8.3"
  }
 },
 "nbformat": 4,
 "nbformat_minor": 4
}
